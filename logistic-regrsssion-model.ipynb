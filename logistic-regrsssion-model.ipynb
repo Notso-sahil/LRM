{
 "cells": [
  {
   "cell_type": "code",
   "execution_count": 1,
   "id": "8220f6f7",
   "metadata": {
    "_cell_guid": "b1076dfc-b9ad-4769-8c92-a6c4dae69d19",
    "_uuid": "8f2839f25d086af736a60e9eeb907d3b93b6e0e5",
    "execution": {
     "iopub.execute_input": "2025-06-15T18:30:36.894373Z",
     "iopub.status.busy": "2025-06-15T18:30:36.893945Z",
     "iopub.status.idle": "2025-06-15T18:30:44.758378Z",
     "shell.execute_reply": "2025-06-15T18:30:44.757318Z"
    },
    "papermill": {
     "duration": 7.869622,
     "end_time": "2025-06-15T18:30:44.760338",
     "exception": false,
     "start_time": "2025-06-15T18:30:36.890716",
     "status": "completed"
    },
    "tags": []
   },
   "outputs": [
    {
     "name": "stdout",
     "output_type": "stream",
     "text": [
      "/kaggle/input/summer-analytics-mid-hackathon/hacktest.csv\n",
      "/kaggle/input/summer-analytics-mid-hackathon/hacktrain.csv\n"
     ]
    }
   ],
   "source": [
    "import os\n",
    "import pandas as pd\n",
    "import numpy as np\n",
    "from sklearn.ensemble import RandomForestClassifier\n",
    "from sklearn.impute import SimpleImputer\n",
    "\n",
    "\n",
    "for dirname, _, filenames in os.walk('/kaggle/input'):\n",
    "    for filename in filenames:\n",
    "        print(os.path.join(dirname, filename))\n",
    "\n",
    "\n",
    "train = pd.read_csv('/kaggle/input/summer-analytics-mid-hackathon/hacktrain.csv')\n",
    "test = pd.read_csv('/kaggle/input/summer-analytics-mid-hackathon/hacktest.csv')\n",
    "\n",
    "\n",
    "if 'Unnamed: 0' in train.columns:\n",
    "    train = train.drop(columns=['Unnamed: 0'])\n",
    "if 'Unnamed: 0' in test.columns:\n",
    "    test = test.drop(columns=['Unnamed: 0'])\n",
    "\n",
    "\n",
    "train.columns = [col.strip() for col in train.columns]\n",
    "\n",
    "X = train.drop(columns=['class'])\n",
    "y = train['class']\n",
    "\n",
    "\n",
    "feature_columns = X.columns\n",
    "\n",
    "\n",
    "imputer = SimpleImputer(strategy='median')\n",
    "X_imputed = imputer.fit_transform(X)\n",
    "\n",
    "\n",
    "test_features = test[feature_columns]\n",
    "test_imputed = imputer.transform(test_features)\n",
    "\n",
    "\n",
    "model = RandomForestClassifier(random_state=42)\n",
    "model.fit(X_imputed, y)\n",
    "\n",
    "\n",
    "predictions = model.predict(test_imputed)\n",
    "\n",
    "\n",
    "submission = pd.DataFrame({\n",
    "    'ID': test['ID'],\n",
    "    'class': predictions\n",
    "})\n",
    "\n",
    "\n",
    "submission.to_csv('/kaggle/working/submission.csv', index=False)"
   ]
  }
 ],
 "metadata": {
  "kaggle": {
   "accelerator": "none",
   "dataSources": [
    {
     "databundleVersionId": 12585144,
     "sourceId": 104491,
     "sourceType": "competition"
    }
   ],
   "dockerImageVersionId": 31040,
   "isGpuEnabled": false,
   "isInternetEnabled": true,
   "language": "python",
   "sourceType": "notebook"
  },
  "kernelspec": {
   "display_name": "Python 3",
   "language": "python",
   "name": "python3"
  },
  "language_info": {
   "codemirror_mode": {
    "name": "ipython",
    "version": 3
   },
   "file_extension": ".py",
   "mimetype": "text/x-python",
   "name": "python",
   "nbconvert_exporter": "python",
   "pygments_lexer": "ipython3",
   "version": "3.11.11"
  },
  "papermill": {
   "default_parameters": {},
   "duration": 13.814427,
   "end_time": "2025-06-15T18:30:45.483360",
   "environment_variables": {},
   "exception": null,
   "input_path": "__notebook__.ipynb",
   "output_path": "__notebook__.ipynb",
   "parameters": {},
   "start_time": "2025-06-15T18:30:31.668933",
   "version": "2.6.0"
  }
 },
 "nbformat": 4,
 "nbformat_minor": 5
}
